{
  "nbformat": 4,
  "nbformat_minor": 0,
  "metadata": {
    "colab": {
      "provenance": []
    },
    "kernelspec": {
      "name": "python3",
      "display_name": "Python 3"
    },
    "language_info": {
      "name": "python"
    }
  },
  "cells": [
    {
      "cell_type": "markdown",
      "source": [
        "Submitted by:-\n",
        "Abdulaziz Mohammed Jawad Al-Khalifa - 219010767\n",
        "Abdulraouf Hamad Al kulaib - 219038215"
      ],
      "metadata": {
        "id": "ytINpqBow7ld"
      }
    },
    {
      "cell_type": "markdown",
      "source": [
        "The solution to the code will be split into segments to dissect the solution and explain what we picked & why we picked it."
      ],
      "metadata": {
        "id": "hDh4td1vxI__"
      }
    },
    {
      "cell_type": "markdown",
      "source": [
        "In this segment, we import the necessary libraries: pandas, matplotlib, and scikit-learn modules. We read the dataset from a CSV file called \"Health_insurance.csv\" into a pandas DataFrame called data."
      ],
      "metadata": {
        "id": "nCJBG_IFxV11"
      }
    },
    {
      "cell_type": "code",
      "source": [
        "import pandas as pd\n",
        "import matplotlib.pyplot as plt\n",
        "from sklearn.model_selection import train_test_split\n",
        "from sklearn.linear_model import LinearRegression\n",
        "from sklearn.preprocessing import OneHotEncoder\n",
        "\n",
        "\n",
        "data = pd.read_csv(\"Health_insurance.csv\") \n"
      ],
      "metadata": {
        "id": "sVxZXbaPxgUX"
      },
      "execution_count": null,
      "outputs": []
    },
    {
      "cell_type": "markdown",
      "source": [
        "This segment prints the first 10 rows and the last 10 rows of the dataset using the head() and tail() functions in pandas. It helps to get a quick overview of the dataset."
      ],
      "metadata": {
        "id": "5acvTxcexdIh"
      }
    },
    {
      "cell_type": "code",
      "source": [
        "\n",
        "print(\"First 10 rows:\")\n",
        "print(data.head(10))\n",
        "print(\"\\nLast 10 rows:\")\n",
        "print(data.tail(10))\n"
      ],
      "metadata": {
        "id": "pCWklXJow95E"
      },
      "execution_count": null,
      "outputs": []
    },
    {
      "cell_type": "markdown",
      "source": [
        "Here, we use the describe() function to generate descriptive statistics of the dataset. It provides information like count, mean, standard deviation, minimum, maximum, and quartile values for numerical columns in the dataset."
      ],
      "metadata": {
        "id": "5uXFwp3wxqKA"
      }
    },
    {
      "cell_type": "code",
      "source": [
        "\n",
        "print(\"\\nDataset description:\")\n",
        "print(data.describe())\n"
      ],
      "metadata": {
        "id": "utlzh__sxsEa"
      },
      "execution_count": null,
      "outputs": []
    },
    {
      "cell_type": "markdown",
      "source": [
        "In this segment, we check for null values in the dataset using the isnull() function and sum up the number of null values for each column using sum(). Then, we drop the rows containing null values using the dropna() function."
      ],
      "metadata": {
        "id": "FTJQ0CkXx0cX"
      }
    },
    {
      "cell_type": "code",
      "source": [
        "\n",
        "print(\"\\nNull values in the dataset:\")\n",
        "print(data.isnull().sum())\n",
        "data = data.dropna()\n"
      ],
      "metadata": {
        "id": "GbC5FUzCx1Br"
      },
      "execution_count": null,
      "outputs": []
    },
    {
      "cell_type": "markdown",
      "source": [
        "In this segment, we group the data by 'sex' and 'smoker' columns and calculate the size of each group using groupby() and size(). Then, we reshape the data using unstack() to create a stacked bar plot. Finally, we customize the plot by adding labels to the x-axis, y-axis, and title, and display the plot using show()."
      ],
      "metadata": {
        "id": "Jsa18wQCx4eW"
      }
    },
    {
      "cell_type": "code",
      "source": [
        "\n",
        "smoker_sex = data.groupby(['sex', 'smoker']).size().unstack()\n",
        "smoker_sex.plot(kind='bar', stacked=True)\n",
        "plt.xlabel('Sex')\n",
        "plt.ylabel('Count')\n",
        "plt.title('Number of Smokers Based on Sex')\n",
        "plt.show()\n"
      ],
      "metadata": {
        "colab": {
          "base_uri": "https://localhost:8080/",
          "height": 506
        },
        "id": "xFENXlA7x5Eh",
        "outputId": "ab1cf344-e0cf-4b2d-c05d-ef009fff3517"
      },
      "execution_count": null,
      "outputs": [
        {
          "output_type": "display_data",
          "data": {
            "text/plain": [
              "<Figure size 640x480 with 1 Axes>"
            ],
            "image/png": "[encoded data removed]"
          },
          "metadata": {}
        }
      ]
    },
    {
      "cell_type": "markdown",
      "source": [
        "Here, we calculate the correlation between numeric values in the dataset using the corr() function. By specifying numeric_only=True, we exclude non-numeric columns from the correlation calculation. We then print the correlation matrix, which shows the pairwise correlation coefficients between different columns in the dataset."
      ],
      "metadata": {
        "id": "RLI6d-v5x7Uz"
      }
    },
    {
      "cell_type": "code",
      "source": [
        "\n",
        "correlation_matrix = data.corr(numeric_only=True) \n",
        "print(\"\\nCorrelation between values:\")\n",
        "print(correlation_matrix)\n"
      ],
      "metadata": {
        "id": "6a4CD2nMx9G1"
      },
      "execution_count": null,
      "outputs": []
    },
    {
      "cell_type": "markdown",
      "source": [
        "In this segment, we split the dataset into input features (X) and the target variable (y). We drop the 'charges' column from the input features and assign it to the variable X. Then, we assign the 'charges' column to the variable y.\n",
        "\n",
        "Next, we perform one-hot encoding on the categorical variables in X using pd.get_dummies(), which converts categorical variables into binary columns. We assign the encoded features to the variable X_encoded.\n",
        "\n",
        "Finally, we split the data into training and testing sets using train_test_split() from scikit-learn. The test set will be 20% of the data, and we set a random state of 42 for reproducibility."
      ],
      "metadata": {
        "id": "yl2vDESGyE9q"
      }
    },
    {
      "cell_type": "code",
      "source": [
        "\n",
        "X = data.drop('charges', axis=1)\n",
        "y = data['charges']\n",
        "\n",
        "\n",
        "X_encoded = pd.get_dummies(X)\n",
        "\n",
        "X_train, X_test, y_train, y_test = train_test_split(X_encoded, y, test_size=0.2, random_state=42)\n"
      ],
      "metadata": {
        "id": "w7IIGJ_NyXpA"
      },
      "execution_count": null,
      "outputs": []
    },
    {
      "cell_type": "markdown",
      "source": [
        "Here, we create an instance of the LinearRegression model from scikit-learn and fit it to the training data using model.fit(X_train, y_train).we use the trained model to make predictions on the test set using model.predict(X_test). We store the predicted charges in the variable 'predictions' and then print them."
      ],
      "metadata": {
        "id": "AB9hlAPjyoVc"
      }
    },
    {
      "cell_type": "code",
      "source": [
        "\n",
        "model = LinearRegression()\n",
        "model.fit(X_train, y_train)\n",
        "predictions = model.predict(X_test)\n",
        "print(\"\\nPredicted charges:\")\n",
        "print(predictions)\n"
      ],
      "metadata": {
        "id": "B66Ju1jRynj_"
      },
      "execution_count": null,
      "outputs": []
    },
    {
      "cell_type": "markdown",
      "source": [
        "In the final segment, we create a scatter plot to compare the actual charges (y_test) and the predicted charges (predictions). We use the scatter() function from Matplotlib to create two sets of points: one for the actual charges (blue) and another for the predicted charges (red). We add labels, a title, and a legend to the plot and display it using plt.show()."
      ],
      "metadata": {
        "id": "zxF9ROBnysJA"
      }
    },
    {
      "cell_type": "code",
      "source": [
        "\n",
        "plt.scatter(range(len(y_test)), y_test, color='blue', label='Actual Charges')\n",
        "plt.scatter(range(len(predictions)), predictions, color='red', label='Predicted Charges')\n",
        "plt.xlabel('Data Point')\n",
        "plt.ylabel('Charges')\n",
        "plt.title('Actual vs Predicted Charges')\n",
        "plt.legend()\n",
        "plt.show()\n"
      ],
      "metadata": {
        "id": "TqIBB3IiyuQW"
      },
      "execution_count": null,
      "outputs": []
    }
  ]
}